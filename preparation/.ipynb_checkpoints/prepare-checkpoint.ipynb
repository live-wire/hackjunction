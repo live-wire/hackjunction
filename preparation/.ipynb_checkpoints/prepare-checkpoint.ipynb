{
 "cells": [
  {
   "cell_type": "markdown",
   "metadata": {},
   "source": [
    "# Data preparation\n",
    "---\n",
    "#### Trying Pydicom"
   ]
  },
  {
   "cell_type": "code",
   "execution_count": 2,
   "metadata": {},
   "outputs": [],
   "source": [
    "%matplotlib inline\n",
    "import numpy as np\n",
    "import os\n",
    "import matplotlib as mpl\n",
    "import matplotlib.pyplot as plt\n",
    "import pydicom as dicom\n",
    "from pydicom.data import get_testdata_files"
   ]
  },
  {
   "cell_type": "code",
   "execution_count": 10,
   "metadata": {},
   "outputs": [],
   "source": [
    "dataset = 'dataset2/'\n",
    "foldernames = os.listdir(dataset)\n",
    "foldernames.remove('.DS_Store')\n",
    "filename = get_testdata_files(\"dataset2/386801/*\")"
   ]
  },
  {
   "cell_type": "code",
   "execution_count": 14,
   "metadata": {},
   "outputs": [
    {
     "name": "stdout",
     "output_type": "stream",
     "text": [
      "Extracting: ./dataset2/339663/\n",
      "(77, 512, 512) (80, 512, 512)\n",
      "Extracting: ./dataset2/345923/\n",
      "(72, 512, 512) (69, 512, 512)\n",
      "Extracting: ./dataset2/346231/\n",
      "(69, 512, 512) (208, 512, 512)\n",
      "Extracting: ./dataset2/351423/\n",
      "(170, 512, 512) (0,)\n",
      "Extracting: ./dataset2/353891/\n",
      "(65, 512, 512) (89, 512, 512)\n",
      "Extracting: ./dataset2/354152/\n",
      "(75, 512, 512) (50, 256, 256)\n",
      "Extracting: ./dataset2/361113/\n",
      "(68, 512, 512) (352, 512, 512)\n",
      "Extracting: ./dataset2/362946/\n",
      "(65, 512, 512) (192, 512, 416)\n",
      "Extracting: ./dataset2/363578/\n",
      "(73, 512, 512) (89, 512, 512)\n",
      "Extracting: ./dataset2/363740/\n",
      "(69, 512, 512) (89, 512, 512)\n",
      "Extracting: ./dataset2/386348/\n"
     ]
    },
    {
     "ename": "ValueError",
     "evalue": "could not broadcast input array from shape (256,168) into shape (512,512)",
     "output_type": "error",
     "traceback": [
      "\u001b[0;31m---------------------------------------------------------------------------\u001b[0m",
      "\u001b[0;31mValueError\u001b[0m                                Traceback (most recent call last)",
      "\u001b[0;32m<ipython-input-14-168f71408f85>\u001b[0m in \u001b[0;36m<module>\u001b[0;34m\u001b[0m\n\u001b[1;32m     38\u001b[0m     \u001b[0musers\u001b[0m \u001b[0;34m=\u001b[0m \u001b[0;34m{\u001b[0m\u001b[0;34m}\u001b[0m\u001b[0;34m\u001b[0m\u001b[0m\n\u001b[1;32m     39\u001b[0m     \u001b[0mpath\u001b[0m \u001b[0;34m=\u001b[0m \u001b[0;34m\"./\"\u001b[0m \u001b[0;34m+\u001b[0m \u001b[0mdataset\u001b[0m \u001b[0;34m+\u001b[0m \u001b[0muser\u001b[0m \u001b[0;34m+\u001b[0m \u001b[0;34m\"/\"\u001b[0m\u001b[0;34m\u001b[0m\u001b[0m\n\u001b[0;32m---> 40\u001b[0;31m     \u001b[0musers\u001b[0m\u001b[0;34m[\u001b[0m\u001b[0mstr\u001b[0m\u001b[0;34m(\u001b[0m\u001b[0mi\u001b[0m\u001b[0;34m)\u001b[0m\u001b[0;34m]\u001b[0m \u001b[0;34m=\u001b[0m \u001b[0mextractFeatures\u001b[0m\u001b[0;34m(\u001b[0m\u001b[0mpath\u001b[0m\u001b[0;34m)\u001b[0m\u001b[0;34m\u001b[0m\u001b[0m\n\u001b[0m\u001b[1;32m     41\u001b[0m \u001b[0;34m\u001b[0m\u001b[0m\n\u001b[1;32m     42\u001b[0m \u001b[0;34m\u001b[0m\u001b[0m\n",
      "\u001b[0;32m<ipython-input-14-168f71408f85>\u001b[0m in \u001b[0;36mextractFeatures\u001b[0;34m(PathDicom)\u001b[0m\n\u001b[1;32m     28\u001b[0m     \u001b[0;32mif\u001b[0m \u001b[0mlen\u001b[0m\u001b[0;34m(\u001b[0m\u001b[0mlstMRFilesDCM\u001b[0m\u001b[0;34m)\u001b[0m \u001b[0;34m>\u001b[0m \u001b[0;36m0\u001b[0m\u001b[0;34m:\u001b[0m\u001b[0;34m\u001b[0m\u001b[0m\n\u001b[1;32m     29\u001b[0m         \u001b[0mrefDsMR\u001b[0m \u001b[0;34m=\u001b[0m \u001b[0mdicom\u001b[0m\u001b[0;34m.\u001b[0m\u001b[0mread_file\u001b[0m\u001b[0;34m(\u001b[0m\u001b[0mlstMRFilesDCM\u001b[0m\u001b[0;34m[\u001b[0m\u001b[0;36m0\u001b[0m\u001b[0;34m]\u001b[0m\u001b[0;34m)\u001b[0m\u001b[0;34m\u001b[0m\u001b[0m\n\u001b[0;32m---> 30\u001b[0;31m         \u001b[0mArrayMR\u001b[0m \u001b[0;34m=\u001b[0m \u001b[0mgetDicomArray\u001b[0m\u001b[0;34m(\u001b[0m\u001b[0mrefDsMR\u001b[0m\u001b[0;34m,\u001b[0m \u001b[0mlstMRFilesDCM\u001b[0m\u001b[0;34m)\u001b[0m\u001b[0;34m\u001b[0m\u001b[0m\n\u001b[0m\u001b[1;32m     31\u001b[0m     \u001b[0;32melse\u001b[0m\u001b[0;34m:\u001b[0m\u001b[0;34m\u001b[0m\u001b[0m\n\u001b[1;32m     32\u001b[0m         \u001b[0mArrayMR\u001b[0m \u001b[0;34m=\u001b[0m \u001b[0mnp\u001b[0m\u001b[0;34m.\u001b[0m\u001b[0masarray\u001b[0m\u001b[0;34m(\u001b[0m\u001b[0;34m[\u001b[0m\u001b[0;34m]\u001b[0m\u001b[0;34m)\u001b[0m\u001b[0;34m\u001b[0m\u001b[0m\n",
      "\u001b[0;32m<ipython-input-14-168f71408f85>\u001b[0m in \u001b[0;36mgetDicomArray\u001b[0;34m(refDs, lstFiles)\u001b[0m\n\u001b[1;32m      8\u001b[0m         \u001b[0mds\u001b[0m \u001b[0;34m=\u001b[0m \u001b[0mdicom\u001b[0m\u001b[0;34m.\u001b[0m\u001b[0mread_file\u001b[0m\u001b[0;34m(\u001b[0m\u001b[0mfilenameDCM\u001b[0m\u001b[0;34m)\u001b[0m\u001b[0;34m\u001b[0m\u001b[0m\n\u001b[1;32m      9\u001b[0m         \u001b[0;31m# store the raw image data\u001b[0m\u001b[0;34m\u001b[0m\u001b[0;34m\u001b[0m\u001b[0m\n\u001b[0;32m---> 10\u001b[0;31m         \u001b[0mArrayDicom\u001b[0m\u001b[0;34m[\u001b[0m\u001b[0mlstFiles\u001b[0m\u001b[0;34m.\u001b[0m\u001b[0mindex\u001b[0m\u001b[0;34m(\u001b[0m\u001b[0mfilenameDCM\u001b[0m\u001b[0;34m)\u001b[0m\u001b[0;34m,\u001b[0m \u001b[0;34m:\u001b[0m\u001b[0;34m,\u001b[0m \u001b[0;34m:\u001b[0m\u001b[0;34m]\u001b[0m \u001b[0;34m=\u001b[0m \u001b[0mds\u001b[0m\u001b[0;34m.\u001b[0m\u001b[0mpixel_array\u001b[0m\u001b[0;34m\u001b[0m\u001b[0m\n\u001b[0m\u001b[1;32m     11\u001b[0m     \u001b[0;32mreturn\u001b[0m \u001b[0mArrayDicom\u001b[0m\u001b[0;34m\u001b[0m\u001b[0m\n\u001b[1;32m     12\u001b[0m \u001b[0;32mdef\u001b[0m \u001b[0mextractFeatures\u001b[0m\u001b[0;34m(\u001b[0m\u001b[0mPathDicom\u001b[0m\u001b[0;34m)\u001b[0m\u001b[0;34m:\u001b[0m\u001b[0;34m\u001b[0m\u001b[0m\n",
      "\u001b[0;31mValueError\u001b[0m: could not broadcast input array from shape (256,168) into shape (512,512)"
     ]
    }
   ],
   "source": [
    "def getDicomArray(refDs, lstFiles):\n",
    "    ConstPixelDims = (len(lstFiles), int(refDs.Rows), int(refDs.Columns))\n",
    "    ConstPixelSpacing = (float(refDs.PixelSpacing[0]), float(refDs.PixelSpacing[1]), float(refDs.SliceThickness))\n",
    "    ArrayDicom = np.zeros(ConstPixelDims, dtype=refDs.pixel_array.dtype)\n",
    "    # loop through all the DICOM files\n",
    "    for filenameDCM in lstFiles:\n",
    "        # read the file\n",
    "        ds = dicom.read_file(filenameDCM)\n",
    "        # store the raw image data\n",
    "        ArrayDicom[lstFiles.index(filenameDCM), :, :] = ds.pixel_array\n",
    "    return ArrayDicom\n",
    "def extractFeatures(PathDicom):\n",
    "    print(\"Extracting:\",PathDicom)\n",
    "    lstCTFilesDCM = []\n",
    "    lstMRFilesDCM = []\n",
    "    for dirName, subdirList, fileList in os.walk(PathDicom):\n",
    "        for filename in fileList:\n",
    "            if \".dcm\" in filename.lower() and \"ct\" in filename.lower()[:2]:  # check whether the file's CT\n",
    "                lstCTFilesDCM.append(os.path.join(dirName,filename))\n",
    "            elif \".dcm\" in filename.lower() and \"mr\" in filename.lower()[:2]:  # check whether the file's MR\n",
    "                lstMRFilesDCM.append(os.path.join(dirName,filename))\n",
    "\n",
    "    if len(lstCTFilesDCM) > 0:\n",
    "        refDsCT = dicom.read_file(lstCTFilesDCM[0])\n",
    "        ArrayCT = getDicomArray(refDsCT, lstCTFilesDCM)\n",
    "    else:\n",
    "        ArrayCT = np.asarray([])\n",
    "    if len(lstMRFilesDCM) > 0:\n",
    "        refDsMR = dicom.read_file(lstMRFilesDCM[0])\n",
    "        ArrayMR = getDicomArray(refDsMR, lstMRFilesDCM)\n",
    "    else:\n",
    "        ArrayMR = np.asarray([])\n",
    "\n",
    "    print(ArrayCT.shape, ArrayMR.shape)\n",
    "    return ArrayCT, ArrayMR\n",
    "\n",
    "for i,user in enumerate(foldernames):\n",
    "    users = {}\n",
    "    path = \"./\" + dataset + user + \"/\"\n",
    "    users[str(i)] = extractFeatures(path)\n",
    "\n",
    "\n"
   ]
  },
  {
   "cell_type": "code",
   "execution_count": 49,
   "metadata": {},
   "outputs": [
    {
     "data": {
      "text/plain": [
       "(512, 512, 77)"
      ]
     },
     "execution_count": 49,
     "metadata": {},
     "output_type": "execute_result"
    }
   ],
   "source": []
  },
  {
   "cell_type": "code",
   "execution_count": 8,
   "metadata": {},
   "outputs": [
    {
     "data": {
      "image/png": "[encoded data removed]",
      "text/plain": [
       "<Figure size 432x288 with 1 Axes>"
      ]
     },
     "metadata": {
      "needs_background": "light"
     },
     "output_type": "display_data"
    }
   ],
   "source": [
    "for i in range(50,77):\n",
    "    f = plt.figure()\n",
    "    ax = f.gca()\n",
    "    ax.imshow(ArrayCT[i])\n",
    "    f.canvas.draw()\n",
    "    break"
   ]
  },
  {
   "cell_type": "code",
   "execution_count": 81,
   "metadata": {},
   "outputs": [
    {
     "name": "stdout",
     "output_type": "stream",
     "text": [
      "(512, 416, 192)\n"
     ]
    }
   ],
   "source": [
    "PathDicom = \"./dataset2/386801/\"\n",
    "lstMRFilesDCM = []  # create an empty list\n",
    "for dirName, subdirList, fileList in os.walk(PathDicom):\n",
    "    for filename in fileList:\n",
    "        if \".dcm\" in filename.lower() and \"mr\" in filename.lower()[:2]:  # check whether the file's DICOM\n",
    "            lstMRFilesDCM.append(os.path.join(dirName,filename))\n",
    "\n",
    "RefDsMR = dicom.read_file(lstMRFilesDCM[0])\n",
    "\n",
    "# Load dimensions based on the number of rows, columns, and slices (along the Z axis)\n",
    "ConstPixelDimsMR = (int(RefDsMR.Rows), int(RefDsMR.Columns), len(lstMRFilesDCM))\n",
    "ConstPixelSpacing = (float(RefDsMR.PixelSpacing[0]), float(RefDsMR.PixelSpacing[1]), float(RefDsMR.SliceThickness))\n",
    "ArrayDicomMR = np.zeros(ConstPixelDimsMR, dtype=RefDsMR.pixel_array.dtype)\n",
    "\n",
    "# loop through all the DICOM files\n",
    "for filenameDCM in lstMRFilesDCM:\n",
    "    # read the file\n",
    "    ds = dicom.read_file(filenameDCM)\n",
    "    # store the raw image data\n",
    "    ArrayDicomMR[:, :, lstMRFilesDCM.index(filenameDCM)] = ds.pixel_array\n",
    "print(ArrayDicomMR.shape)"
   ]
  },
  {
   "cell_type": "code",
   "execution_count": 75,
   "metadata": {},
   "outputs": [
    {
     "data": {
      "text/plain": [
       "True"
      ]
     },
     "execution_count": 75,
     "metadata": {},
     "output_type": "execute_result"
    }
   ],
   "source": [
    "\"pr\" in \"pross\"[:2]"
   ]
  },
  {
   "cell_type": "code",
   "execution_count": null,
   "metadata": {},
   "outputs": [],
   "source": []
  }
 ],
 "metadata": {
  "kernelspec": {
   "display_name": "Python 3",
   "language": "python",
   "name": "python3"
  },
  "language_info": {
   "codemirror_mode": {
    "name": "ipython",
    "version": 3
   },
   "file_extension": ".py",
   "mimetype": "text/x-python",
   "name": "python",
   "nbconvert_exporter": "python",
   "pygments_lexer": "ipython3",
   "version": "3.6.4"
  }
 },
 "nbformat": 4,
 "nbformat_minor": 2
}
