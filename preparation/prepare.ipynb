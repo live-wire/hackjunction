{
 "cells": [
  {
   "cell_type": "markdown",
   "metadata": {},
   "source": [
    "# Data preparation\n",
    "---\n",
    "#### Trying Pydicom"
   ]
  },
  {
   "cell_type": "code",
   "execution_count": 4,
   "metadata": {},
   "outputs": [],
   "source": [
    "%matplotlib inline\n",
    "import numpy as np\n",
    "import os\n",
    "import matplotlib as mpl\n",
    "import matplotlib.pyplot as plt\n",
    "import pydicom as dicom\n",
    "from pydicom.data import get_testdata_files"
   ]
  },
  {
   "cell_type": "code",
   "execution_count": 5,
   "metadata": {},
   "outputs": [
    {
     "ename": "FileNotFoundError",
     "evalue": "[Errno 2] No such file or directory: 'dataset2/'",
     "output_type": "error",
     "traceback": [
      "\u001b[0;31m---------------------------------------------------------------------------\u001b[0m",
      "\u001b[0;31mFileNotFoundError\u001b[0m                         Traceback (most recent call last)",
      "\u001b[0;32m<ipython-input-5-71ef8e16a051>\u001b[0m in \u001b[0;36m<module>\u001b[0;34m\u001b[0m\n\u001b[1;32m      1\u001b[0m \u001b[0mdataset\u001b[0m \u001b[0;34m=\u001b[0m \u001b[0;34m'dataset2/'\u001b[0m\u001b[0;34m\u001b[0m\u001b[0m\n\u001b[0;32m----> 2\u001b[0;31m \u001b[0mfoldernames\u001b[0m \u001b[0;34m=\u001b[0m \u001b[0mos\u001b[0m\u001b[0;34m.\u001b[0m\u001b[0mlistdir\u001b[0m\u001b[0;34m(\u001b[0m\u001b[0mdataset\u001b[0m\u001b[0;34m)\u001b[0m\u001b[0;34m\u001b[0m\u001b[0m\n\u001b[0m\u001b[1;32m      3\u001b[0m \u001b[0mfoldernames\u001b[0m\u001b[0;34m.\u001b[0m\u001b[0mremove\u001b[0m\u001b[0;34m(\u001b[0m\u001b[0;34m'.DS_Store'\u001b[0m\u001b[0;34m)\u001b[0m\u001b[0;34m\u001b[0m\u001b[0m\n",
      "\u001b[0;31mFileNotFoundError\u001b[0m: [Errno 2] No such file or directory: 'dataset2/'"
     ]
    }
   ],
   "source": [
    "dataset = 'dataset2/'\n",
    "foldernames = os.listdir(dataset)\n",
    "foldernames.remove('.DS_Store')\n"
   ]
  },
  {
   "cell_type": "code",
   "execution_count": null,
   "metadata": {},
   "outputs": [],
   "source": [
    "def getDicomArray(refDs, lstFiles):\n",
    "    ConstPixelDims = (len(lstFiles), int(refDs.Rows), int(refDs.Columns))\n",
    "    ConstPixelSpacing = (float(refDs.PixelSpacing[0]), float(refDs.PixelSpacing[1]), float(refDs.SliceThickness))\n",
    "    PixelDict = {}\n",
    "    ArrayDicom = np.zeros(ConstPixelDims, dtype=refDs.pixel_array.dtype)\n",
    "    # loop through all the DICOM files\n",
    "    for filenameDCM in lstFiles:\n",
    "        # read the file\n",
    "        ds = dicom.read_file(filenameDCM)\n",
    "        key = str(ds.pixel_array.shape)\n",
    "        if (key in PixelDict):\n",
    "            PixelDict[key] = np.vstack((PixelDict[key], [ds.pixel_array]))\n",
    "        else:\n",
    "            PixelDict[key] = np.asarray([ds.pixel_array])\n",
    "    return PixelDict\n",
    "\n",
    "def extractFeatures(PathDicom):\n",
    "    print(\"Extracting:\",PathDicom)\n",
    "    lstCTFilesDCM = []\n",
    "    lstMRFilesDCM = []\n",
    "    lstOtherFilesDCM = []\n",
    "    metadata = {}\n",
    "    metaExtracted = False\n",
    "    for dirName, subdirList, fileList in os.walk(PathDicom):\n",
    "        for filename in fileList:\n",
    "            if \".dcm\" in filename.lower() and \"ct\" in filename.lower()[:2]:  # check whether the file's CT\n",
    "                lstCTFilesDCM.append(os.path.join(dirName,filename))\n",
    "                if not metaExtracted:\n",
    "                    metadata = extractMetaData(os.path.join(dirName, filename))\n",
    "                    metaExtracted = True\n",
    "            elif \".dcm\" in filename.lower() and \"mr\" in filename.lower()[:2]:  # check whether the file's MR\n",
    "                lstMRFilesDCM.append(os.path.join(dirName, filename))\n",
    "                if not metaExtracted:\n",
    "                    metadata = extractMetaData(os.path.join(dirName, filename))\n",
    "                    metaExtracted = True\n",
    "            else:\n",
    "                lstOtherFilesDCM.append(os.path.join(dirName, filename))\n",
    "    \n",
    "    if len(lstCTFilesDCM) > 0:\n",
    "        refDsCT = dicom.read_file(lstCTFilesDCM[0])\n",
    "        ArrayCT = getDicomArray(refDsCT, lstCTFilesDCM)\n",
    "    else:\n",
    "        ArrayCT = {}\n",
    "    if len(lstMRFilesDCM) > 0:\n",
    "        refDsMR = dicom.read_file(lstMRFilesDCM[0])\n",
    "        ArrayMR = getDicomArray(refDsMR, lstMRFilesDCM)\n",
    "    else:\n",
    "        ArrayMR = {}\n",
    "    return ArrayCT, ArrayMR, metadata\n",
    "\n",
    "def extractMetaData(filenameDCM):\n",
    "    extract = ['PatientBirthDate', 'PatientID', 'PatientName', 'ImageComments', 'PatientSex', 'StudyDate', 'InstitutionName', 'ReferringPhysicianName']\n",
    "    ds = dicom.read_file(filenameDCM)\n",
    "    temp = {}\n",
    "    for item in extract:\n",
    "        temp[item] = getattr(ds, item, 'NA')\n",
    "    return temp\n",
    "\n",
    "users = []\n",
    "for i,user in enumerate(foldernames):\n",
    "    path = \"./\" + dataset + user + \"/\"\n",
    "    temp = {}\n",
    "    ret = extractFeatures(path)\n",
    "    temp['ct'] = ret[0]\n",
    "    temp['mr'] = ret[1]\n",
    "    temp['meta'] = ret[2]\n",
    "    users.append(temp)\n",
    "\n"
   ]
  },
  {
   "cell_type": "code",
   "execution_count": null,
   "metadata": {},
   "outputs": [],
   "source": []
  },
  {
   "cell_type": "markdown",
   "metadata": {},
   "source": [
    "## All the users in variable - users"
   ]
  },
  {
   "cell_type": "code",
   "execution_count": null,
   "metadata": {},
   "outputs": [],
   "source": [
    "len(users)"
   ]
  },
  {
   "cell_type": "markdown",
   "metadata": {},
   "source": [
    "### Writing visualization code below"
   ]
  },
  {
   "cell_type": "code",
   "execution_count": null,
   "metadata": {},
   "outputs": [],
   "source": [
    "for i in range(50,77):\n",
    "    f = plt.figure()\n",
    "    ax = f.gca()\n",
    "    ax.imshow(ArrayCT[i])\n",
    "    f.canvas.draw()\n",
    "    break"
   ]
  }
 ],
 "metadata": {
  "kernelspec": {
   "display_name": "Python 3",
   "language": "python",
   "name": "python3"
  },
  "language_info": {
   "codemirror_mode": {
    "name": "ipython",
    "version": 3
   },
   "file_extension": ".py",
   "mimetype": "text/x-python",
   "name": "python",
   "nbconvert_exporter": "python",
   "pygments_lexer": "ipython3",
   "version": "3.6.4"
  }
 },
 "nbformat": 4,
 "nbformat_minor": 2
}
